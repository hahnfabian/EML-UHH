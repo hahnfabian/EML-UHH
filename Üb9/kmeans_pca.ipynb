{
 "cells": [
  {
   "cell_type": "code",
   "execution_count": null,
   "metadata": {},
   "outputs": [],
   "source": [
    "import matplotlib.pyplot as plt\n",
    "\n",
    "# imports: most likely matplotlib and sklearn :)"
   ]
  },
  {
   "cell_type": "code",
   "execution_count": null,
   "metadata": {},
   "outputs": [],
   "source": [
    "def load_img_to_floatarray(image_path):\n",
    "    \"\"\"Loads a jpg image as a matrix of shape (n,m,3) where\n",
    "    n and m are the height and width of the image.\n",
    "\n",
    "    Args:\n",
    "        image_path: The path to the image jpg file\n",
    "\n",
    "    Returns:\n",
    "        img_matrix: A numpy array of dtype float.\n",
    "    \"\"\"\n",
    "    # just the easiest way to do this in this scenario\n",
    "    # there are more sophisticated libraries for this\n",
    "    # e.g. CV2 or Pillow, also scipy has a function\n",
    "    img_matrix = plt.imread(image_path)\n",
    "\n",
    "    return img_matrix"
   ]
  },
  {
   "cell_type": "code",
   "execution_count": null,
   "metadata": {},
   "outputs": [],
   "source": [
    "from sklearn.cluster import KMeans\n",
    "import numpy as np\n",
    "\n",
    "def transform_img_KMeans(image, n_clusters):\n",
    "    \"\"\"\n",
    "    Transforms an image matrix by replacing the color values of every pixel\n",
    "    with the closest cluster center.\n",
    "\n",
    "    Args:\n",
    "        image: The image matrix (n, m, 3) that should be transformed.\n",
    "        n_clusters: The number of clusters to form as well as the number of centroids to generate.\n",
    "\n",
    "    Returns:\n",
    "        img_new: The transformed image with shape (n, m, 3).\n",
    "    \"\"\"\n",
    "    # Reshape the image into a 2D array of pixels (each pixel is a 3D RGB vector)\n",
    "    pixels = image.reshape(-1, 3)\n",
    "    \n",
    "    # Apply k-means clustering to find cluster centers\n",
    "    kmeans = KMeans(n_clusters=n_clusters, random_state=0)\n",
    "    kmeans.fit(pixels)\n",
    "    \n",
    "    # Replace each pixel with the nearest cluster center\n",
    "    compressed_pixels = kmeans.cluster_centers_[kmeans.labels_]\n",
    "    \n",
    "    # Reshape the 2D array back into the original image shape\n",
    "    img_new = compressed_pixels.reshape(image.shape)\n",
    "    \n",
    "    return img_new\n"
   ]
  },
  {
   "cell_type": "code",
   "execution_count": null,
   "metadata": {},
   "outputs": [],
   "source": [
    "from sklearn.decomposition import PCA\n",
    "import numpy as np\n",
    "\n",
    "def transform_img_PCA(image, n_components):\n",
    "    \"\"\"\n",
    "    Transforms an image matrix by compressing and decompressing it using PCA.\n",
    "\n",
    "    Args:\n",
    "        image: The image matrix (n, m, 3) that should be transformed.\n",
    "        n_components: Number of components to keep for PCA.\n",
    "\n",
    "    Returns:\n",
    "        img_new: The transformed image with shape (n, m, 3).\n",
    "    \"\"\"\n",
    "    # Reshape the image into a 2D array of pixels (rows: n*m, columns: RGB channels)\n",
    "    n, m, c = image.shape  # n: Höhe, m: Breite, c: Farbkanäle\n",
    "    pixels = image.reshape(-1, c)  # Umformen in (n*m, 3)\n",
    "    \n",
    "    # Apply PCA to each color channel independently\n",
    "    pca = PCA(n_components=n_components)\n",
    "    compressed_pixels = pca.fit_transform(pixels)  # Komprimiert die Pixel-Daten\n",
    "    decompressed_pixels = pca.inverse_transform(compressed_pixels)  # Dekomprimiert die Daten\n",
    "    \n",
    "    # Reshape the decompressed pixels back into the original image shape\n",
    "    img_new = decompressed_pixels.reshape(n, m, c)\n",
    "    \n",
    "    return img_new\n"
   ]
  },
  {
   "cell_type": "code",
   "execution_count": null,
   "metadata": {},
   "outputs": [],
   "source": [
    "# load images"
   ]
  },
  {
   "cell_type": "markdown",
   "metadata": {},
   "source": [
    "## k-means based compression\n"
   ]
  },
  {
   "cell_type": "code",
   "execution_count": null,
   "metadata": {},
   "outputs": [],
   "source": [
    "# try out different count of cluster centers for compression\n",
    "# visualize results"
   ]
  },
  {
   "cell_type": "markdown",
   "metadata": {},
   "source": [
    "## PCA based compression\n"
   ]
  },
  {
   "cell_type": "code",
   "execution_count": null,
   "metadata": {},
   "outputs": [],
   "source": [
    "# try out different number of principal components\n",
    "# how many components do we need for a really good compression?\n",
    "# visualize results"
   ]
  }
 ],
 "metadata": {
  "kernelspec": {
   "display_name": "ml_teaching",
   "language": "python",
   "name": "python3"
  },
  "language_info": {
   "codemirror_mode": {
    "name": "ipython",
    "version": 3
   },
   "file_extension": ".py",
   "mimetype": "text/x-python",
   "name": "python",
   "nbconvert_exporter": "python",
   "pygments_lexer": "ipython3",
   "version": "3.8.10"
  },
  "orig_nbformat": 4,
  "vscode": {
   "interpreter": {
    "hash": "0fc36ab0d55a6a226ae882655424b723ba299a7c7e2b24a1d4fe088de8ed7471"
   }
  }
 },
 "nbformat": 4,
 "nbformat_minor": 2
}
