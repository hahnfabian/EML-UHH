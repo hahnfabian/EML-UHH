{
 "cells": [
  {
   "cell_type": "code",
   "execution_count": 4,
   "metadata": {},
   "outputs": [],
   "source": [
    "import numpy as np\n",
    "from matplotlib import pyplot as plt\n",
    "import csv\n",
    "\n",
    "from sklearn.model_selection import KFold\n",
    "from sklearn.metrics import mean_squared_error\n",
    "from sklearn.linear_model import Ridge\n",
    "from sklearn.preprocessing import PolynomialFeatures\n",
    "\n",
    "\n",
    "plt.style.use(\"ggplot\")"
   ]
  },
  {
   "cell_type": "code",
   "execution_count": 5,
   "metadata": {},
   "outputs": [],
   "source": [
    "def plot_samples(X, y):\n",
    "    fig, ax = plt.subplots()\n",
    "    ax.scatter(X, y, s=4, label=\"Samples\")\n",
    "    ax.set_xlabel(\"X\")\n",
    "    ax.set_ylabel(\"y\")\n",
    "\n",
    "    fig.tight_layout()\n",
    "\n",
    "    plt.show()"
   ]
  },
  {
   "cell_type": "code",
   "execution_count": 6,
   "metadata": {},
   "outputs": [],
   "source": [
    "def plot_samples_and_poly_predictions(X, y, model, n):\n",
    "    \"\"\"\n",
    "    This function plots X and y predictions of a model in the range indicated by\n",
    "    X and y (X must be 1-D) of a given linear scikit learn model. The X values for\n",
    "    plotting the model predictions are extended to polynomial features of \n",
    "    degree n in descending order (x^n, x^(n-1), ...)\n",
    "    \"\"\"\n",
    "\n",
    "    fig, ax = plt.subplots()\n",
    "    ax.scatter(X, y, s=4, label=\"Samples\")\n",
    "\n",
    "    X_pred = np.linspace(np.min(X), np.max(X), 100)\n",
    "    X_pred_poly = np.vander(X_pred, N=n+1)\n",
    "\n",
    "    y_plot = model.predict(X_pred_poly)\n",
    "\n",
    "    ax.plot(\n",
    "        X_pred,\n",
    "        y_plot,\n",
    "        linewidth=2,\n",
    "        label=\"Model\",\n",
    "    )\n",
    "    ax.set_xlabel(\"X\")\n",
    "    ax.set_ylabel(\"y\")\n",
    "    ax.legend()\n",
    "    \n",
    "    fig.tight_layout()\n",
    "\n",
    "    plt.show()"
   ]
  },
  {
   "cell_type": "code",
   "execution_count": 7,
   "metadata": {},
   "outputs": [],
   "source": [
    "def plot_regularization_path(alphas, mean_val_losses, mean_train_losses):\n",
    "    \"\"\"Plots a regularization path given alphas (regularization parameters)\n",
    "    and the corresponding mean validation losses and mean training losses\"\"\"\n",
    "    \n",
    "    fig, ax = plt.subplots()\n",
    "    ax.plot(alphas, mean_val_losses, label=\"Validation loss\")\n",
    "    ax.plot(alphas, mean_train_losses, label=\"Train loss\")\n",
    "    ax.set_xscale(\"log\")\n",
    "    ax.invert_xaxis()\n",
    "    ax.set_xlabel(\"Regularization parameter / alpha\")\n",
    "    ax.set_ylabel(\"Loss / mean squared error\")\n",
    "    ax.legend()\n",
    "\n",
    "    plt.show()"
   ]
  },
  {
   "cell_type": "code",
   "execution_count": 8,
   "metadata": {},
   "outputs": [],
   "source": [
    "def load_dataset_csv(data_path):\n",
    "    \"\"\"Reads from a csv file assuming two columns (2D) representing X and y\n",
    "    of a regression problem.\"\"\"\n",
    "    with open(data_path, newline='') as f:\n",
    "        csv_reader = csv.reader(f)    \n",
    "\n",
    "        next(csv_reader)\n",
    "\n",
    "        X = []\n",
    "        y = []\n",
    "\n",
    "        for row in csv_reader:\n",
    "            X.append(row[0])\n",
    "            y.append(row[1])\n",
    "        \n",
    "    X = np.array(X, dtype=float)\n",
    "    y = np.array(y, dtype=float)\n",
    "\n",
    "    return X, y"
   ]
  },
  {
   "cell_type": "code",
   "execution_count": 9,
   "metadata": {},
   "outputs": [],
   "source": [
    "def kfold_crossval(regressor, X_design, y, k=10):\n",
    "    \"\"\"Function to evaluate a scikit learn model in 10-fold shuffled\n",
    "    split cross validation. \n",
    "    \"\"\"\n",
    "    kf = KFold(n_splits=k, shuffle=True, random_state=42)\n",
    "    val_losses = []\n",
    "    train_losses = []\n",
    "\n",
    "    for train_index, val_index in kf.split(X_design):\n",
    "        # Aufteilen der Daten in Trainings- und Validierungsdaten\n",
    "        X_train, X_val = X_design[train_index], X_design[val_index]\n",
    "        y_train, y_val = y[train_index], y[val_index]\n",
    "\n",
    "        # Fitten des Modells auf die Trainingsdaten\n",
    "        regressor.fit(X_train, y_train)\n",
    "\n",
    "        # Vorhersagen für Trainings- und Validierungsdaten\n",
    "        y_train_pred = regressor.predict(X_train)\n",
    "        y_val_pred = regressor.predict(X_val)\n",
    "\n",
    "        # Berechnen der Mean Squared Errors\n",
    "        train_loss = mean_squared_error(y_train, y_train_pred)\n",
    "        val_loss = mean_squared_error(y_val, y_val_pred)\n",
    "\n",
    "        # Fehler sammeln\n",
    "        train_losses.append(train_loss)\n",
    "        val_losses.append(val_loss)\n",
    "\n",
    "    # Durchschnittliche Fehler berechnen\n",
    "    mean_train_loss = np.mean(train_losses)\n",
    "    mean_val_loss = np.mean(val_losses)\n",
    "\n",
    "    return mean_val_loss, mean_train_loss\n"
   ]
  },
  {
   "cell_type": "code",
   "execution_count": 10,
   "metadata": {},
   "outputs": [],
   "source": [
    "def regularization_path(X_design, y, alphas):\n",
    "    \"\"\"Samples a regularization path given X, y and alphas (regularization\n",
    "    parameters) for a linear, l2 regularized model.\"\"\" \n",
    "\n",
    "    mean_val_losses = []\n",
    "    mean_train_losses = []\n",
    "\n",
    "    # Für jeden Regularisierungsparameter Alpha den k-fold Cross-Validation-Fehler berechnen\n",
    "    for alpha in alphas:\n",
    "        # Erstellen eines Ridge-Regressors mit dem aktuellen Alpha-Wert\n",
    "        regressor = Ridge(alpha=alpha)\n",
    "        \n",
    "        # Berechnung der mittleren Validierungs- und Trainingsfehler mittels kfold_crossval\n",
    "        mean_val_loss, mean_train_loss = kfold_crossval(regressor, X_design, y)\n",
    "        \n",
    "        # Fehler in den Listen speichern\n",
    "        mean_val_losses.append(mean_val_loss)\n",
    "        mean_train_losses.append(mean_train_loss)\n",
    "\n",
    "    return mean_val_losses, mean_train_losses"
   ]
  },
  {
   "cell_type": "code",
   "execution_count": 11,
   "metadata": {},
   "outputs": [],
   "source": [
    "def best_regularization_parameter(alphas, mean_val_losses, mean_train_losses):\n",
    "    \"\"\"Finds the regularization parameter with the smallest validation loss given alphas (regularization parameters)\n",
    "    and the corresponding mean validation losses and mean training losses\"\"\"\n",
    "\n",
    "    best_index = np.argmin(mean_val_losses)\n",
    "\n",
    "    # Bester Alpha-Wert und die entsprechenden Fehler\n",
    "    best_alpha = alphas[best_index]\n",
    "    best_alpha_val_loss = mean_val_losses[best_index]\n",
    "    best_alpha_train_loss = mean_train_losses[best_index]\n",
    "\n",
    "    return best_alpha, best_alpha_val_loss, best_alpha_train_loss"
   ]
  },
  {
   "cell_type": "code",
   "execution_count": 13,
   "metadata": {},
   "outputs": [
    {
     "name": "stdout",
     "output_type": "stream",
     "text": [
      "./regularization_dataset0.csv:\n"
     ]
    },
    {
     "data": {
      "image/png": "[encoded data removed]",
      "text/plain": [
       "<Figure size 640x480 with 1 Axes>"
      ]
     },
     "metadata": {},
     "output_type": "display_data"
    },
    {
     "ename": "TypeError",
     "evalue": "regularization_path() got an unexpected keyword argument 'X'",
     "output_type": "error",
     "traceback": [
      "\u001b[0;31m---------------------------------------------------------------------------\u001b[0m",
      "\u001b[0;31mTypeError\u001b[0m                                 Traceback (most recent call last)",
      "Cell \u001b[0;32mIn[13], line 22\u001b[0m\n\u001b[1;32m     18\u001b[0m X_poly \u001b[38;5;241m=\u001b[39m poly\u001b[38;5;241m.\u001b[39mfit_transform(X)\n\u001b[1;32m     21\u001b[0m \u001b[38;5;66;03m# Berechnen der mittleren Fehler mit dem Regularisierungspfad\u001b[39;00m\n\u001b[0;32m---> 22\u001b[0m mean_val_losses, mean_train_losses \u001b[38;5;241m=\u001b[39m \u001b[43mregularization_path\u001b[49m\u001b[43m(\u001b[49m\u001b[43mX\u001b[49m\u001b[38;5;241;43m=\u001b[39;49m\u001b[43mX_poly\u001b[49m\u001b[43m,\u001b[49m\u001b[43m \u001b[49m\u001b[43my\u001b[49m\u001b[38;5;241;43m=\u001b[39;49m\u001b[43my\u001b[49m\u001b[43m,\u001b[49m\u001b[43m \u001b[49m\u001b[43malphas\u001b[49m\u001b[38;5;241;43m=\u001b[39;49m\u001b[43malphas\u001b[49m\u001b[43m)\u001b[49m\n\u001b[1;32m     23\u001b[0m plot_regularization_path(alphas, mean_val_losses, mean_train_losses)\n\u001b[1;32m     25\u001b[0m \u001b[38;5;66;03m# Finden des besten Regularisierungsparameters\u001b[39;00m\n",
      "\u001b[0;31mTypeError\u001b[0m: regularization_path() got an unexpected keyword argument 'X'"
     ]
    }
   ],
   "source": [
    "datasets = {f\"./regularization_dataset{i}.csv\": load_dataset_csv(f\"./regularization_dataset{i}.csv\") for i in range(2)}\n",
    "\n",
    "# Iteration über die Datensätze\n",
    "for name, (X, y) in datasets.items():\n",
    "    print(f\"{name}:\")\n",
    "    plot_samples(X, y)\n",
    "    \n",
    "    # Festlegen der Regularisierungsparameter und des Polynomialgrads\n",
    "    alphas = np.logspace(-4, 4, 10)  # Wertebereich für die Regularisierungsparameter (von 10^-4 bis 10^4)\n",
    "    poly_degree = 8  # Polynomialgrad gemäß Angabe auf dem Aufgabenblatt\n",
    "\n",
    "    # Sicherstellen, dass X die richtige Form hat\n",
    "    if X.ndim == 1:\n",
    "        X = X.reshape(-1, 1)\n",
    "\n",
    "    # Erstellen der Designmatrix für Polynomialregression\n",
    "    poly = PolynomialFeatures(degree=poly_degree)\n",
    "    X_poly = poly.fit_transform(X)\n",
    "\n",
    "\n",
    "    # Berechnen der mittleren Fehler mit dem Regularisierungspfad\n",
    "    mean_val_losses, mean_train_losses = regularization_path(X=X_poly, y=y, alphas=alphas)\n",
    "    plot_regularization_path(alphas, mean_val_losses, mean_train_losses)\n",
    "\n",
    "    # Finden des besten Regularisierungsparameters\n",
    "    best_alpha, best_alpha_val_loss, best_alpha_train_loss = best_regularization_parameter(alphas, mean_val_losses, mean_train_losses)\n",
    "    print(\"Best validation error:\", best_alpha_val_loss)\n",
    "    print(\"Corresponding train error:\", best_alpha_train_loss)\n",
    "    print(\"Corresponding alpha:\", best_alpha)\n",
    "\n",
    "    # Fitten eines Modells mit dem besten Alpha-Wert\n",
    "    best_model = Ridge(alpha=best_alpha)\n",
    "    best_model.fit(X_poly, y)\n",
    "\n",
    "    # Plotten der Stichproben und der Polynomial-Vorhersagen\n",
    "    plot_samples_and_poly_predictions(X=X, y=y, model=best_model, n=poly_degree)"
   ]
  }
 ],
 "metadata": {
  "kernelspec": {
   "display_name": "EML",
   "language": "python",
   "name": "python3"
  },
  "language_info": {
   "codemirror_mode": {
    "name": "ipython",
    "version": 3
   },
   "file_extension": ".py",
   "mimetype": "text/x-python",
   "name": "python",
   "nbconvert_exporter": "python",
   "pygments_lexer": "ipython3",
   "version": "3.13.0"
  },
  "orig_nbformat": 4
 },
 "nbformat": 4,
 "nbformat_minor": 2
}
