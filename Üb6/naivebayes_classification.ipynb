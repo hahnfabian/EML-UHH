{
 "cells": [
  {
   "cell_type": "code",
   "execution_count": null,
   "metadata": {},
   "outputs": [],
   "source": [
    "import pandas as pd\n",
    "import numpy as np\n",
    "import seaborn as sns\n",
    "from matplotlib import pyplot as plt\n",
    "\n",
    "from sklearn.feature_extraction.text import TfidfVectorizer\n",
    "\n",
    "from sklearn.model_selection import train_test_split\n",
    "\n",
    "from sklearn.naive_bayes import MultinomialNB\n",
    "\n",
    "\n",
    "from sklearn.metrics import precision_score, recall_score, f1_score\n",
    "\n",
    "\n",
    "from sklearn.metrics import confusion_matrix, classification_report"
   ]
  },
  {
   "cell_type": "code",
   "execution_count": 8,
   "metadata": {},
   "outputs": [],
   "source": [
    "def load_text_dataset_pandas(dataset_path):\n",
    "    df = pd.read_csv(dataset_path)\n",
    "\n",
    "    X = df.iloc[:, 0].to_numpy()\n",
    "    y = df.iloc[:, 1].to_numpy()\n",
    "\n",
    "    return X, y"
   ]
  },
  {
   "cell_type": "code",
   "execution_count": 9,
   "metadata": {},
   "outputs": [],
   "source": [
    "def vectorize_text(X_train, X_test):\n",
    "    \"\"\"Vectorizes a training and a test set via term frequency - inverse document frequency \n",
    "    (TF-IDF). The function receives two lists of strings, X_train and X_test, that contain \n",
    "    the text data for each sample in the training and test set, respectively. The function\n",
    "    trains the b procedure (using the sklearn default arguments!), applies it to the\n",
    "    data and returns V_train and V_test, which contains the vectorized data for the training\n",
    "    and test set, respectively.\"\"\"\n",
    "    \n",
    "    # TODO\n",
    "    # train tf-idf vectorizer\n",
    "        # HINT: On which data sets should the IDF be calculated\n",
    "        # to prevent data leakage?\n",
    "    # transform X_train\n",
    "    # transform X_test\n",
    "    # return them\n",
    "    tfidf_vectorizer = TfidfVectorizer()  \n",
    "\n",
    "    V_train = tfidf_vectorizer.fit_transform(X_train)\n",
    "    V_test = tfidf_vectorizer.transform(X_test)\n",
    "\n",
    "\n",
    "    return V_train, V_test\n"
   ]
  },
  {
   "cell_type": "code",
   "execution_count": 10,
   "metadata": {},
   "outputs": [],
   "source": [
    "def fit_classifier_and_predict(V_train, y_train, V_test):\n",
    "    \"\"\"Fits a naive bayes classifier to the already vectorized data. The function takes two\n",
    "    design matrices V_train and V_test and the true labels belonging to the data points in \n",
    "    V_train. The function fits a naive bayes classifier to the training data and predicts\n",
    "    the labels of the test data. The function returns the trained classifier and the predicted\n",
    "    labels on the test data.\"\"\"\n",
    "\n",
    "    # TODO:\n",
    "    # Fit a Naive Bayes Classiﬁer\n",
    "    # Make a prediction of the text text\n",
    "\n",
    "    mnb = MultinomialNB()\n",
    "    classifier = mnb.fit(V_train, y_train)  # Works directly with sparse matrices\n",
    "    y_pred = classifier.predict(V_test)\n",
    "    \n",
    "    return classifier, y_pred"
   ]
  },
  {
   "cell_type": "code",
   "execution_count": 11,
   "metadata": {},
   "outputs": [],
   "source": [
    "def calculate_confusion_matrix(y_true, y_pred, pos_label=1, neg_label=0):\n",
    "    \"\"\"Calculates the confusion matrix between the true labels y_true\n",
    "    and the predicted labels y_pred of an array. For this it needs to\n",
    "    know the label of the positive class pos_class.\n",
    "    The function assumes that there are only 2 classes.\n",
    "    Returns the true positive, false positive, false negative and\n",
    "    true negative values as floats or numpy values in this specific\n",
    "    order.\"\"\"\n",
    "\n",
    "    # TODO\n",
    "    # calculate the confusion matrix given the true and predicted labels\n",
    "    # if possible, use vectorized operations and numpy internal functions\n",
    "    # Remember, you may not use scikit-learn\n",
    "\n",
    "    y_true = np.array(y_true)\n",
    "    y_pred = np.array(y_pred)\n",
    "\n",
    "    # Calculate true positives, false positives, false negatives, and true negatives\n",
    "    true_pos = np.sum((y_true == pos_label) & (y_pred == pos_label))\n",
    "    false_pos = np.sum((y_true == neg_label) & (y_pred == pos_label))\n",
    "    false_neg = np.sum((y_true == pos_label) & (y_pred == neg_label))\n",
    "    true_neg = np.sum((y_true == neg_label) & (y_pred == neg_label))\n",
    "\n",
    "\n",
    "    # cm = confusion_matrix(y_true, y_pred, labels=[pos_label, neg_label])\n",
    "    \n",
    "    # # Extract values: TP, FP, FN, TN\n",
    "    # true_pos = cm[0, 0]\n",
    "    # false_pos = cm[1, 0]\n",
    "    # false_neg = cm[0, 1]\n",
    "    # true_neg = cm[1, 1]\n",
    "\n",
    "    return true_pos, false_pos, false_neg, true_neg"
   ]
  },
  {
   "cell_type": "code",
   "execution_count": 25,
   "metadata": {},
   "outputs": [],
   "source": [
    "def calculate_confusion_matrix(y_true, y_pred, pos_label=1, neg_label=0):\n",
    "    \"\"\"Calculate confusion matrix values: TP, FP, FN, TN.\"\"\"\n",
    "    tn, fp, fn, tp = confusion_matrix(y_true, y_pred, labels=[neg_label, pos_label]).ravel()\n",
    "    return tp, fp, fn, tn\n",
    "\n",
    "# Plot confusion matrix\n",
    "def plot_confusion_matrix(true_pos, false_pos, false_neg, true_neg, pos_label=1, neg_label=0):\n",
    "    \"\"\"Plots the confusion matrix with labeled axes.\"\"\"\n",
    "    confusion_mat = np.array([[true_neg, false_pos], [false_neg, true_pos]])\n",
    "\n",
    "    fig, ax = plt.subplots(figsize=(8, 8))\n",
    "    sns.heatmap(\n",
    "        confusion_mat,\n",
    "        annot=True,\n",
    "        fmt=\"d\",\n",
    "        cmap=\"Blues\",\n",
    "        xticklabels=[f\"Predicted {neg_label}\", f\"Predicted {pos_label}\"],\n",
    "        yticklabels=[f\"Actual {neg_label}\", f\"Actual {pos_label}\"]\n",
    "    )\n",
    "    ax.set_xlabel(\"Prediction\", fontsize=14)\n",
    "    ax.set_ylabel(\"Truth\", fontsize=14)\n",
    "    ax.set_title(\"Confusion Matrix\", fontsize=16)\n",
    "    plt.show()\n"
   ]
  },
  {
   "attachments": {},
   "cell_type": "markdown",
   "metadata": {},
   "source": [
    "#### 20newsgroups dataset - multiclass classification"
   ]
  },
  {
   "cell_type": "code",
   "execution_count": 26,
   "metadata": {},
   "outputs": [
    {
     "name": "stdout",
     "output_type": "stream",
     "text": [
      "Precision: 0.8621\n",
      "Recall: 0.7934\n"
     ]
    }
   ],
   "source": [
    "# Load data\n",
    "X, y = load_text_dataset_pandas('./20newsgroups.csv')\n",
    "# create a hold out test set\n",
    "X_train, X_test, y_train, y_test = train_test_split(X, y, test_size=0.5, random_state=42)\n",
    "# vectorize the data\n",
    "V_train, V_test = vectorize_text(X_train, X_test)\n",
    "# fit a classifier\n",
    "classifier, y_pred = fit_classifier_and_predict(V_train, y_train, V_test)\n",
    "# compute the accuracy\n",
    "\n",
    "\n",
    "precision = precision_score(y_test, y_pred, average='macro')  # oder 'micro', 'weighted', je nach Bedarf\n",
    "recall = recall_score(y_test, y_pred, average='macro')  # oder 'micro', 'weighted', je nach Bedarf\n",
    "\n",
    "print(f\"Precision: {precision:.4f}\")\n",
    "print(f\"Recall: {recall:.4f}\")"
   ]
  },
  {
   "attachments": {},
   "cell_type": "markdown",
   "metadata": {},
   "source": [
    "#### Spam - No spam"
   ]
  },
  {
   "cell_type": "code",
   "execution_count": 34,
   "metadata": {},
   "outputs": [
    {
     "data": {
      "image/png": "[encoded data removed]",
      "text/plain": [
       "<Figure size 800x800 with 2 Axes>"
      ]
     },
     "metadata": {},
     "output_type": "display_data"
    },
    {
     "name": "stdout",
     "output_type": "stream",
     "text": [
      "Precision (positive class): 1.0000\n",
      "Recall (positive class): 0.1255\n",
      "F1 Score (positive class): 0.2230\n",
      "Precision (negative class): 0.8481\n",
      "Recall (negative class): 1.0000\n",
      "F1 Score (negative class): 0.9178\n"
     ]
    }
   ],
   "source": [
    "# Load data\n",
    "X, y = load_text_dataset_pandas('./spam_or_not_spam.csv')\n",
    "\n",
    "# create a hold out test set\n",
    "X_train, X_test, y_train, y_test = train_test_split(X, y, test_size=0.5, random_state=42)\n",
    "\n",
    "# vectorize the data\n",
    "V_train, V_test = vectorize_text(X_train, X_test)\n",
    "\n",
    "# fit a classifier\n",
    "classifier, y_pred = fit_classifier_and_predict(V_train, y_train, V_test)\n",
    "\n",
    "# calculate the confusion matrix\n",
    "# Check if y_test is a NumPy array of strings\n",
    "if isinstance(y_test[0], str):\n",
    "    label_mapping = {'Not spam': 0, 'Spam': 1}  # Adjust based on your dataset's labels\n",
    "    y_test = np.array([label_mapping[label] for label in y_test])  # Convert to integers\n",
    "    y_pred = np.array([label_mapping[label] for label in y_pred])  # Ensure consistency\n",
    "\n",
    "true_pos, false_pos, false_neg, true_neg = calculate_confusion_matrix(y_test, y_pred, pos_label=1, neg_label=0)\n",
    "\n",
    "# Plot confusion matrix\n",
    "plot_confusion_matrix(true_pos, false_pos, false_neg, true_neg, pos_label=\"Not Spam\", neg_label=\"Spam\")\n",
    "\n",
    "# Compute metrics\n",
    "precision_pos = true_pos / (true_pos + false_pos) if (true_pos + false_pos) != 0 else 0\n",
    "recall_pos = true_pos / (true_pos + false_neg) if (true_pos + false_neg) != 0 else 0\n",
    "f1_pos = 2 * (precision_pos * recall_pos) / (precision_pos + recall_pos) if (precision_pos + recall_pos) != 0 else 0\n",
    "\n",
    "precision_neg = true_neg / (true_neg + false_neg) if (true_neg + false_neg) != 0 else 0\n",
    "recall_neg = true_neg / (true_neg + false_pos) if (true_neg + false_pos) != 0 else 0\n",
    "f1_neg = 2 * (precision_neg * recall_neg) / (precision_neg + recall_neg) if (precision_neg + recall_neg) != 0 else 0\n",
    "\n",
    "# Print metrics\n",
    "print(f\"Precision (positive class): {precision_pos:.4f}\")\n",
    "print(f\"Recall (positive class): {recall_pos:.4f}\")\n",
    "print(f\"F1 Score (positive class): {f1_pos:.4f}\")\n",
    "print(f\"Precision (negative class): {precision_neg:.4f}\")\n",
    "print(f\"Recall (negative class): {recall_neg:.4f}\")\n",
    "print(f\"F1 Score (negative class): {f1_neg:.4f}\")\n",
    "\n",
    "# Print classification report for reference\n",
    "#print(classification_report(y_test, y_pred))\n",
    "\n"
   ]
  }
 ],
 "metadata": {
  "kernelspec": {
   "display_name": "EML",
   "language": "python",
   "name": "python3"
  },
  "language_info": {
   "codemirror_mode": {
    "name": "ipython",
    "version": 3
   },
   "file_extension": ".py",
   "mimetype": "text/x-python",
   "name": "python",
   "nbconvert_exporter": "python",
   "pygments_lexer": "ipython3",
   "version": "3.13.0"
  },
  "orig_nbformat": 4
 },
 "nbformat": 4,
 "nbformat_minor": 2
}
