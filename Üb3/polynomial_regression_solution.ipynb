{
 "cells": [
  {
   "cell_type": "code",
   "execution_count": 28,
   "metadata": {},
   "outputs": [],
   "source": [
    "import numpy as np\n",
    "from matplotlib import pyplot as plt\n",
    "import csv\n",
    "import pandas as pd"
   ]
  },
  {
   "cell_type": "code",
   "execution_count": 29,
   "metadata": {},
   "outputs": [],
   "source": [
    "def load_dataset_csv(data_path):\n",
    "    with open(data_path, newline='') as f:\n",
    "        csv_reader = csv.reader(f)    \n",
    "\n",
    "        next(csv_reader)\n",
    "\n",
    "        X = []\n",
    "        y = []\n",
    "\n",
    "        for row in csv_reader:\n",
    "            X.append(row[0])\n",
    "            y.append(row[1])\n",
    "        \n",
    "    X = np.array(X, dtype=float)\n",
    "    y = np.array(y, dtype=float)\n",
    "\n",
    "    return X, y"
   ]
  },
  {
   "cell_type": "code",
   "execution_count": 30,
   "metadata": {},
   "outputs": [],
   "source": [
    "def polynomial_regression(X, y, n):\n",
    "    # polynomial features x^n to x^0\n",
    "    X_poly = np.vander(X, N=n+1)\n",
    "\n",
    "    w = np.linalg.lstsq(X_poly.T @ X_poly, X_poly.T @ y, rcond=None)[0]\n",
    "\n",
    "    return w"
   ]
  },
  {
   "cell_type": "code",
   "execution_count": 31,
   "metadata": {},
   "outputs": [],
   "source": [
    "def mse_loss(y, y_hat):\n",
    "    return np.linalg.norm(y_hat - y) ** 2"
   ]
  },
  {
   "cell_type": "code",
   "execution_count": 32,
   "metadata": {},
   "outputs": [],
   "source": [
    "def kfold_crossval(X, y, n, k=10):\n",
    "    nof_samples = X.shape[0]\n",
    "\n",
    "    indx_split = np.array_split(range(nof_samples), k)\n",
    "\n",
    "    val_losses = []\n",
    "\n",
    "    for indx_val in indx_split:   \n",
    "        # remove fold from training data\n",
    "        train_X = np.delete(X, indx_val, axis=0)\n",
    "        train_y = np.delete(y, indx_val)\n",
    "    \n",
    "        # set fold to validation data\n",
    "        valid_X = X[indx_val]\n",
    "        valid_y = y[indx_val]\n",
    "        \n",
    "        w = polynomial_regression(X=train_X, y=train_y, n=n)\n",
    "\n",
    "        valid_X_poly = np.vander(valid_X, N=n+1)\n",
    "        valid_y_hat = valid_X_poly @ w\n",
    "\n",
    "        val_loss = mse_loss(valid_y, valid_y_hat)\n",
    "        val_losses.append(val_loss)\n",
    "\n",
    "    mean_val_loss = np.mean(val_losses)\n",
    "    \n",
    "    return mean_val_loss"
   ]
  },
  {
   "cell_type": "code",
   "execution_count": 33,
   "metadata": {},
   "outputs": [],
   "source": [
    "def find_best_poly_model(X, y, n=9):\n",
    "\n",
    "    kfold_deg_losses = {}\n",
    "\n",
    "    for i in range(1, n+1):\n",
    "        kfold_deg_losses[i] = kfold_crossval(X, y, i)\n",
    "\n",
    "    best_deg = min(kfold_deg_losses, key=lambda k: kfold_deg_losses[k])\n",
    "\n",
    "    return best_deg, kfold_deg_losses[best_deg]"
   ]
  },
  {
   "cell_type": "code",
   "execution_count": 34,
   "metadata": {},
   "outputs": [],
   "source": [
    "def plot(X, y, w):\n",
    "    \"\"\"\n",
    "    This functions plots 2D data assuming a linear model with\n",
    "    polynomial basis functions. The weights have to be provided\n",
    "    in ascending order in the degree of polynomials.\n",
    "    \"\"\"\n",
    "\n",
    "    plt.plot(X, y, \".r\", markersize=8, label=\"Samples\")\n",
    "\n",
    "    x_plot = np.linspace(np.min(X), np.max(X), 100)\n",
    "    X_plot = np.vander(x_plot, N=len(w))\n",
    "\n",
    "    # set plotting range properly\n",
    "    plt.ylim((np.min(y) * 1.2, np.max(y) * 1.2))\n",
    "\n",
    "    plt.plot(\n",
    "        x_plot,\n",
    "        X_plot @ w,\n",
    "        linewidth=5,\n",
    "        color=\"tab:blue\",\n",
    "        label=\"Model\",\n",
    "    )\n",
    "\n",
    "    plt.tight_layout()\n",
    "    plt.show()"
   ]
  },
  {
   "cell_type": "markdown",
   "metadata": {},
   "source": [
    "### dataset0"
   ]
  },
  {
   "cell_type": "code",
   "execution_count": 35,
   "metadata": {},
   "outputs": [
    {
     "name": "stdout",
     "output_type": "stream",
     "text": [
      "Best fitting polynomial degree: (7, 0.21993085361609604)\n"
     ]
    },
    {
     "name": "stderr",
     "output_type": "stream",
     "text": [
      "/tmp/ipykernel_7650/4066919228.py:5: FutureWarning: `rcond` parameter will change to the default of machine precision times ``max(M, N)`` where M and N are the input matrix dimensions.\n",
      "To use the future default and silence this warning we advise to pass `rcond=None`, to keep using the old, explicitly pass `rcond=-1`.\n",
      "  w = np.linalg.lstsq(X_poly.T @ X_poly, X_poly.T @ y)[0]\n"
     ]
    }
   ],
   "source": [
    "X, y = load_dataset_csv(data_path=\"dataset0.csv\")\n",
    "best_deg = find_best_poly_model(X, y)\n",
    "\n",
    "print(\"Best fitting polynomial degree:\", best_deg)"
   ]
  },
  {
   "cell_type": "code",
   "execution_count": 9,
   "metadata": {},
   "outputs": [
    {
     "ename": "NameError",
     "evalue": "name 'best_deg' is not defined",
     "output_type": "error",
     "traceback": [
      "\u001b[0;31m---------------------------------------------------------------------------\u001b[0m",
      "\u001b[0;31mNameError\u001b[0m                                 Traceback (most recent call last)",
      "Cell \u001b[0;32mIn[9], line 1\u001b[0m\n\u001b[0;32m----> 1\u001b[0m w \u001b[39m=\u001b[39m polynomial_regression(X\u001b[39m=\u001b[39mX, y\u001b[39m=\u001b[39my, n\u001b[39m=\u001b[39mbest_deg[\u001b[39m0\u001b[39m])\n\u001b[1;32m      2\u001b[0m \u001b[39mprint\u001b[39m(w)\n\u001b[1;32m      3\u001b[0m plot(X, y, w)\n",
      "\u001b[0;31mNameError\u001b[0m: name 'best_deg' is not defined"
     ]
    }
   ],
   "source": [
    "w = polynomial_regression(X=X, y=y, n=best_deg[0])\n",
    "print(w)\n",
    "plot(X, y, w)"
   ]
  },
  {
   "cell_type": "markdown",
   "metadata": {},
   "source": [
    "### dataset1"
   ]
  },
  {
   "cell_type": "code",
   "execution_count": 10,
   "metadata": {},
   "outputs": [
    {
     "ename": "TypeError",
     "evalue": "solve() got an unexpected keyword argument 'rcond'",
     "output_type": "error",
     "traceback": [
      "\u001b[0;31m---------------------------------------------------------------------------\u001b[0m",
      "\u001b[0;31mTypeError\u001b[0m                                 Traceback (most recent call last)",
      "Cell \u001b[0;32mIn[10], line 2\u001b[0m\n\u001b[1;32m      1\u001b[0m X, y \u001b[39m=\u001b[39m load_dataset_csv(data_path\u001b[39m=\u001b[39m\u001b[39m\"\u001b[39m\u001b[39mdataset1.csv\u001b[39m\u001b[39m\"\u001b[39m)\n\u001b[0;32m----> 2\u001b[0m best_deg \u001b[39m=\u001b[39m find_best_poly_model(X, y)\n\u001b[1;32m      4\u001b[0m \u001b[39mprint\u001b[39m(\u001b[39m\"\u001b[39m\u001b[39mBest fitting polynomial degree:\u001b[39m\u001b[39m\"\u001b[39m, best_deg)\n",
      "Cell \u001b[0;32mIn[6], line 6\u001b[0m, in \u001b[0;36mfind_best_poly_model\u001b[0;34m(X, y, n)\u001b[0m\n\u001b[1;32m      3\u001b[0m kfold_deg_losses \u001b[39m=\u001b[39m {}\n\u001b[1;32m      5\u001b[0m \u001b[39mfor\u001b[39;00m i \u001b[39min\u001b[39;00m \u001b[39mrange\u001b[39m(\u001b[39m1\u001b[39m, n\u001b[39m+\u001b[39m\u001b[39m1\u001b[39m):\n\u001b[0;32m----> 6\u001b[0m     kfold_deg_losses[i] \u001b[39m=\u001b[39m kfold_crossval(X, y, i)\n\u001b[1;32m      8\u001b[0m best_deg \u001b[39m=\u001b[39m \u001b[39mmin\u001b[39m(kfold_deg_losses, key\u001b[39m=\u001b[39m\u001b[39mlambda\u001b[39;00m k: kfold_deg_losses[k])\n\u001b[1;32m     10\u001b[0m \u001b[39mreturn\u001b[39;00m best_deg, kfold_deg_losses[best_deg]\n",
      "Cell \u001b[0;32mIn[5], line 17\u001b[0m, in \u001b[0;36mkfold_crossval\u001b[0;34m(X, y, n, k)\u001b[0m\n\u001b[1;32m     14\u001b[0m valid_X \u001b[39m=\u001b[39m X[indx_val]\n\u001b[1;32m     15\u001b[0m valid_y \u001b[39m=\u001b[39m y[indx_val]\n\u001b[0;32m---> 17\u001b[0m w \u001b[39m=\u001b[39m polynomial_regression(X\u001b[39m=\u001b[39;49mtrain_X, y\u001b[39m=\u001b[39;49mtrain_y, n\u001b[39m=\u001b[39;49mn)\n\u001b[1;32m     19\u001b[0m valid_X_poly \u001b[39m=\u001b[39m np\u001b[39m.\u001b[39mvander(valid_X, N\u001b[39m=\u001b[39mn\u001b[39m+\u001b[39m\u001b[39m1\u001b[39m)\n\u001b[1;32m     20\u001b[0m valid_y_hat \u001b[39m=\u001b[39m valid_X_poly \u001b[39m@\u001b[39m w\n",
      "Cell \u001b[0;32mIn[3], line 5\u001b[0m, in \u001b[0;36mpolynomial_regression\u001b[0;34m(X, y, n)\u001b[0m\n\u001b[1;32m      1\u001b[0m \u001b[39mdef\u001b[39;00m \u001b[39mpolynomial_regression\u001b[39m(X, y, n):\n\u001b[1;32m      2\u001b[0m     \u001b[39m# polynomial features x^n to x^0\u001b[39;00m\n\u001b[1;32m      3\u001b[0m     X_poly \u001b[39m=\u001b[39m np\u001b[39m.\u001b[39mvander(X, N\u001b[39m=\u001b[39mn\u001b[39m+\u001b[39m\u001b[39m1\u001b[39m)\n\u001b[0;32m----> 5\u001b[0m     w \u001b[39m=\u001b[39m np\u001b[39m.\u001b[39;49mlinalg\u001b[39m.\u001b[39;49msolve(X_poly\u001b[39m.\u001b[39;49mT \u001b[39m@\u001b[39;49m X_poly, X_poly\u001b[39m.\u001b[39;49mT \u001b[39m@\u001b[39;49m y, rcond\u001b[39m=\u001b[39;49m\u001b[39mNone\u001b[39;49;00m)[\u001b[39m0\u001b[39m]\n\u001b[1;32m      7\u001b[0m     \u001b[39mreturn\u001b[39;00m w\n",
      "File \u001b[0;32m<__array_function__ internals>:198\u001b[0m, in \u001b[0;36msolve\u001b[0;34m(*args, **kwargs)\u001b[0m\n",
      "\u001b[0;31mTypeError\u001b[0m: solve() got an unexpected keyword argument 'rcond'"
     ]
    }
   ],
   "source": [
    "X, y = load_dataset_csv(data_path=\"dataset1.csv\")\n",
    "best_deg = find_best_poly_model(X, y)\n",
    "\n",
    "print(\"Best fitting polynomial degree:\", best_deg)"
   ]
  },
  {
   "cell_type": "code",
   "execution_count": 11,
   "metadata": {},
   "outputs": [
    {
     "ename": "NameError",
     "evalue": "name 'best_deg' is not defined",
     "output_type": "error",
     "traceback": [
      "\u001b[0;31m---------------------------------------------------------------------------\u001b[0m",
      "\u001b[0;31mNameError\u001b[0m                                 Traceback (most recent call last)",
      "Cell \u001b[0;32mIn[11], line 1\u001b[0m\n\u001b[0;32m----> 1\u001b[0m w \u001b[39m=\u001b[39m polynomial_regression(X\u001b[39m=\u001b[39mX, y\u001b[39m=\u001b[39my, n\u001b[39m=\u001b[39mbest_deg[\u001b[39m0\u001b[39m])\n\u001b[1;32m      2\u001b[0m \u001b[39mprint\u001b[39m(w)\n\u001b[1;32m      3\u001b[0m plot(X, y, w)\n",
      "\u001b[0;31mNameError\u001b[0m: name 'best_deg' is not defined"
     ]
    }
   ],
   "source": [
    "w = polynomial_regression(X=X, y=y, n=best_deg[0])\n",
    "print(w)\n",
    "plot(X, y, w)"
   ]
  },
  {
   "cell_type": "markdown",
   "metadata": {},
   "source": [
    "### dataset2"
   ]
  },
  {
   "cell_type": "code",
   "execution_count": null,
   "metadata": {},
   "outputs": [
    {
     "name": "stdout",
     "output_type": "stream",
     "text": [
      "Best fitting polynomial degree: (5, 17.747536022186264)\n"
     ]
    }
   ],
   "source": [
    "X, y = load_dataset_csv(data_path=\"dataset2.csv\")\n",
    "best_deg = find_best_poly_model(X, y)\n",
    "\n",
    "print(\"Best fitting polynomial degree:\", best_deg)"
   ]
  },
  {
   "cell_type": "code",
   "execution_count": null,
   "metadata": {},
   "outputs": [
    {
     "name": "stdout",
     "output_type": "stream",
     "text": [
      "[ 1.06890720e-03  1.53425286e-03 -2.41512975e-02  9.40656740e-02\n",
      "  8.73230131e-01  1.54292466e+00]\n"
     ]
    },
    {
     "data": {
      "image/png": "[encoded data removed]",
      "text/plain": [
       "<Figure size 640x480 with 1 Axes>"
      ]
     },
     "metadata": {},
     "output_type": "display_data"
    }
   ],
   "source": [
    "w = polynomial_regression(X=X, y=y, n=best_deg[0])\n",
    "print(w)\n",
    "plot(X, y, w)"
   ]
  }
 ],
 "metadata": {
  "kernelspec": {
   "display_name": "ml_teaching",
   "language": "python",
   "name": "python3"
  },
  "language_info": {
   "codemirror_mode": {
    "name": "ipython",
    "version": 3
   },
   "file_extension": ".py",
   "mimetype": "text/x-python",
   "name": "python",
   "nbconvert_exporter": "python",
   "pygments_lexer": "ipython3",
   "version": "3.8.10"
  },
  "orig_nbformat": 4,
  "vscode": {
   "interpreter": {
    "hash": "0fc36ab0d55a6a226ae882655424b723ba299a7c7e2b24a1d4fe088de8ed7471"
   }
  }
 },
 "nbformat": 4,
 "nbformat_minor": 2
}
